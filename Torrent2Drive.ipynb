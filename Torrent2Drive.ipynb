{
  "nbformat": 4,
  "nbformat_minor": 0,
  "metadata": {
    "colab": {
      "provenance": [],
      "authorship_tag": "ABX9TyNasFCK1DihFlXUvovv6fAr",
      "include_colab_link": true
    },
    "kernelspec": {
      "name": "python3",
      "display_name": "Python 3"
    },
    "language_info": {
      "name": "python"
    }
  },
  "cells": [
    {
      "cell_type": "markdown",
      "metadata": {
        "id": "view-in-github",
        "colab_type": "text"
      },
      "source": [
        "<a href=\"https://colab.research.google.com/github/HarshShinde0/Torrent2Drive/blob/main/Torrent2Drive.ipynb\" target=\"_parent\"><img src=\"https://colab.research.google.com/assets/colab-badge.svg\" alt=\"Open In Colab\"/></a>"
      ]
    },
    {
      "cell_type": "code",
      "execution_count": 1,
      "metadata": {
        "colab": {
          "base_uri": "https://localhost:8080/"
        },
        "id": "YOAVXUw533cc",
        "outputId": "3acd6881-8bff-4f61-a394-a860f201c3fb"
      },
      "outputs": [
        {
          "output_type": "stream",
          "name": "stdout",
          "text": [
            "Reading package lists... Done\n",
            "Building dependency tree... Done\n",
            "Reading state information... Done\n",
            "The following additional packages will be installed:\n",
            "  libaria2-0 libc-ares2\n",
            "The following NEW packages will be installed:\n",
            "  aria2 libaria2-0 libc-ares2\n",
            "0 upgraded, 3 newly installed, 0 to remove and 35 not upgraded.\n",
            "Need to get 1,513 kB of archives.\n",
            "After this operation, 5,441 kB of additional disk space will be used.\n",
            "Get:1 http://archive.ubuntu.com/ubuntu jammy-updates/main amd64 libc-ares2 amd64 1.18.1-1ubuntu0.22.04.3 [45.1 kB]\n",
            "Get:2 http://archive.ubuntu.com/ubuntu jammy/universe amd64 libaria2-0 amd64 1.36.0-1 [1,086 kB]\n",
            "Get:3 http://archive.ubuntu.com/ubuntu jammy/universe amd64 aria2 amd64 1.36.0-1 [381 kB]\n",
            "Fetched 1,513 kB in 2s (779 kB/s)\n",
            "Selecting previously unselected package libc-ares2:amd64.\n",
            "(Reading database ... 126109 files and directories currently installed.)\n",
            "Preparing to unpack .../libc-ares2_1.18.1-1ubuntu0.22.04.3_amd64.deb ...\n",
            "Unpacking libc-ares2:amd64 (1.18.1-1ubuntu0.22.04.3) ...\n",
            "Selecting previously unselected package libaria2-0:amd64.\n",
            "Preparing to unpack .../libaria2-0_1.36.0-1_amd64.deb ...\n",
            "Unpacking libaria2-0:amd64 (1.36.0-1) ...\n",
            "Selecting previously unselected package aria2.\n",
            "Preparing to unpack .../aria2_1.36.0-1_amd64.deb ...\n",
            "Unpacking aria2 (1.36.0-1) ...\n",
            "Setting up libc-ares2:amd64 (1.18.1-1ubuntu0.22.04.3) ...\n",
            "Setting up libaria2-0:amd64 (1.36.0-1) ...\n",
            "Setting up aria2 (1.36.0-1) ...\n",
            "Processing triggers for man-db (2.10.2-1) ...\n",
            "Processing triggers for libc-bin (2.35-0ubuntu3.8) ...\n",
            "/sbin/ldconfig.real: /usr/local/lib/libtbbmalloc_proxy.so.2 is not a symbolic link\n",
            "\n",
            "/sbin/ldconfig.real: /usr/local/lib/libtcm.so.1 is not a symbolic link\n",
            "\n",
            "/sbin/ldconfig.real: /usr/local/lib/libtbbmalloc.so.2 is not a symbolic link\n",
            "\n",
            "/sbin/ldconfig.real: /usr/local/lib/libtbbbind.so.3 is not a symbolic link\n",
            "\n",
            "/sbin/ldconfig.real: /usr/local/lib/libtcm_debug.so.1 is not a symbolic link\n",
            "\n",
            "/sbin/ldconfig.real: /usr/local/lib/libumf.so.0 is not a symbolic link\n",
            "\n",
            "/sbin/ldconfig.real: /usr/local/lib/libur_adapter_level_zero.so.0 is not a symbolic link\n",
            "\n",
            "/sbin/ldconfig.real: /usr/local/lib/libhwloc.so.15 is not a symbolic link\n",
            "\n",
            "/sbin/ldconfig.real: /usr/local/lib/libur_loader.so.0 is not a symbolic link\n",
            "\n",
            "/sbin/ldconfig.real: /usr/local/lib/libur_adapter_opencl.so.0 is not a symbolic link\n",
            "\n",
            "/sbin/ldconfig.real: /usr/local/lib/libtbbbind_2_0.so.3 is not a symbolic link\n",
            "\n",
            "/sbin/ldconfig.real: /usr/local/lib/libtbbbind_2_5.so.3 is not a symbolic link\n",
            "\n",
            "/sbin/ldconfig.real: /usr/local/lib/libtbb.so.12 is not a symbolic link\n",
            "\n"
          ]
        }
      ],
      "source": [
        "# Install aria2\n",
        "!apt-get install -y aria2"
      ]
    },
    {
      "cell_type": "code",
      "source": [
        "# Create a download folder\n",
        "!mkdir -p /content/downloads\n",
        "\n",
        "# Example magnet link\n",
        "magnet_uri = \"https://cdimage.kali.org/kali-2025.1c/kali-linux-2025.1c-installer-amd64.iso.torrent\"\n",
        "\n",
        "# Start download\n",
        "!aria2c --dir=/content/downloads --seed-time=0 \"{magnet_uri}\""
      ],
      "metadata": {
        "colab": {
          "base_uri": "https://localhost:8080/"
        },
        "id": "QhB12Kvh4AEE",
        "outputId": "b06cb217-d51d-4484-adf4-130c7d0b20f7"
      },
      "execution_count": 5,
      "outputs": [
        {
          "output_type": "stream",
          "name": "stdout",
          "text": [
            "\n",
            "05/31 19:56:42 [\u001b[1;32mNOTICE\u001b[0m] Downloading 1 item(s)\n",
            "\n",
            "05/31 19:56:42 [\u001b[1;32mNOTICE\u001b[0m] CUID#7 - Redirecting to https://kali.cs.nycu.edu.tw/kali-images/kali-2025.1c/kali-linux-2025.1c-installer-amd64.iso.torrent\n",
            "\n",
            "05/31 19:56:42 [\u001b[1;32mNOTICE\u001b[0m] Download complete: /content/downloads/kali-linux-2025.1c-installer-amd64.iso.torrent\n",
            "\n",
            "05/31 19:56:43 [\u001b[1;32mNOTICE\u001b[0m] IPv4 DHT: listening on UDP port 6989\n",
            "\n",
            "05/31 19:56:43 [\u001b[1;32mNOTICE\u001b[0m] IPv4 BitTorrent: listening on TCP port 6941\n",
            "\n",
            "05/31 19:56:43 [\u001b[1;31mERROR\u001b[0m] IPv6 BitTorrent: failed to bind TCP port 6941\n",
            "Exception: [SocketCore.cc:312] errorCode=1 Failed to bind a socket, cause: Name or service not known\n",
            "\u001b[0m\n",
            "05/31 19:56:43 [\u001b[1;32mNOTICE\u001b[0m] CUID#22 - Redirecting to https://kali.cs.nycu.edu.tw/kali-images/kali-2025.1c/kali-linux-2025.1c-installer-amd64.iso\n",
            "\u001b[0m\n",
            "05/31 19:57:29 [\u001b[1;32mNOTICE\u001b[0m] Seeding is over.\n",
            "\u001b[0m\n",
            "05/31 19:57:29 [\u001b[1;32mNOTICE\u001b[0m] Download complete: /content/downloads/kali-linux-2025.1c-installer-amd64.iso\n",
            "\n",
            "05/31 19:57:29 [\u001b[1;32mNOTICE\u001b[0m] Your share ratio was 0.0, uploaded/downloaded=0B/4.1GiB\n",
            "\u001b[0m\n",
            "Download Results:\n",
            "gid   |stat|avg speed  |path/URI\n",
            "======+====+===========+=======================================================\n",
            "7f9f40|\u001b[1;32mOK\u001b[0m  |   8.0MiB/s|/content/downloads/kali-linux-2025.1c-installer-amd64.iso.torrent\n",
            "298cd1|\u001b[1;32mOK\u001b[0m  |    92MiB/s|/content/downloads/kali-linux-2025.1c-installer-amd64.iso\n",
            "\n",
            "Status Legend:\n",
            "(OK):download completed.\n"
          ]
        }
      ]
    },
    {
      "cell_type": "code",
      "source": [
        "from google.colab import drive\n",
        "import shutil\n",
        "\n",
        "# Mount Google Drive\n",
        "drive.mount('/content/drive')\n",
        "\n",
        "# Copy downloaded files to Drive\n",
        "shutil.copytree('/content/downloads', '/content/drive/MyDrive/TorrentDownloads', dirs_exist_ok=True)"
      ],
      "metadata": {
        "colab": {
          "base_uri": "https://localhost:8080/",
          "height": 53
        },
        "id": "Yv_rN6CK4utA",
        "outputId": "5602536a-4528-4ef6-cfe0-2fbc97badfe1"
      },
      "execution_count": 6,
      "outputs": [
        {
          "output_type": "stream",
          "name": "stdout",
          "text": [
            "Mounted at /content/drive\n"
          ]
        },
        {
          "output_type": "execute_result",
          "data": {
            "text/plain": [
              "'/content/drive/MyDrive/TorrentDownloads'"
            ],
            "application/vnd.google.colaboratory.intrinsic+json": {
              "type": "string"
            }
          },
          "metadata": {},
          "execution_count": 6
        }
      ]
    }
  ]
}